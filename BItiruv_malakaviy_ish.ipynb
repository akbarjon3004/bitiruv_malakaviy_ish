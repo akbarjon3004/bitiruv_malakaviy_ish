{
  "cells": [
    {
      "cell_type": "code",
      "execution_count": 1,
      "metadata": {
        "id": "EpJqBa9NptGB"
      },
      "outputs": [],
      "source": [
        "import pandas as pd\n",
        "import seaborn as sns\n",
        "import matplotlib.pyplot as plt\n",
        "from sklearn.model_selection import train_test_split, GridSearchCV\n",
        "from sklearn.metrics import mean_squared_error, r2_score\n",
        "from sklearn.tree import DecisionTreeRegressor\n",
        "from sklearn.ensemble import RandomForestRegressor, GradientBoostingRegressor\n",
        "from sklearn.svm import SVR\n",
        "from sklearn.neighbors import KNeighborsRegressor\n",
        "import xgboost as xgb\n"
      ]
    },
    {
      "cell_type": "code",
      "execution_count": 4,
      "metadata": {
        "id": "2EfFhEo-pvef",
        "colab": {
          "base_uri": "https://localhost:8080/",
          "height": 240
        },
        "outputId": "34cf1a2d-bc2e-4bf1-e9d9-9d687ec2217c"
      },
      "outputs": [
        {
          "output_type": "execute_result",
          "data": {
            "text/plain": [
              "   № Hudud nomi                                        Loyiha nomi  Maydoni  \\\n",
              "0  1  Samarqand  Oqsil biomassasi - bioprotein ishlab chiqarish...      0.2   \n",
              "1  2  Samarqand  Keramo va metallogranit ishlab chiqarishni tas...     20.0   \n",
              "2  3  Samarqand  Bir martalik tibbiyot anjomlari (shprits siste...      0.5   \n",
              "3  4  Samarqand  Madaniy kavrak o‘simligini yetishtirish va qay...     20.0   \n",
              "4  5  Samarqand  Oshqovoq va olma mahsulotlarini qayta ishlash ...      0.5   \n",
              "\n",
              "     Soha  Loyiha umumiy qiymati  Ish o'rni  NPV   IRR  Loyiha qoplash muddati  \n",
              "0  Sanoat                   31.8        100  8.8  18.6                    72.0  \n",
              "1  Sanoat                   27.7         60  1.4  19.5                    96.0  \n",
              "2  Sanoat                   20.5         40  1.8  14.2                    72.0  \n",
              "3  Sanoat                   10.0        100  2.7  14.0                    96.0  \n",
              "4  Sanoat                   10.0         30  2.9  24.1                    72.0  "
            ],
            "text/html": [
              "\n",
              "  <div id=\"df-4d4e0501-21bd-4df3-b3fc-d2af9414056b\" class=\"colab-df-container\">\n",
              "    <div>\n",
              "<style scoped>\n",
              "    .dataframe tbody tr th:only-of-type {\n",
              "        vertical-align: middle;\n",
              "    }\n",
              "\n",
              "    .dataframe tbody tr th {\n",
              "        vertical-align: top;\n",
              "    }\n",
              "\n",
              "    .dataframe thead th {\n",
              "        text-align: right;\n",
              "    }\n",
              "</style>\n",
              "<table border=\"1\" class=\"dataframe\">\n",
              "  <thead>\n",
              "    <tr style=\"text-align: right;\">\n",
              "      <th></th>\n",
              "      <th>№</th>\n",
              "      <th>Hudud nomi</th>\n",
              "      <th>Loyiha nomi</th>\n",
              "      <th>Maydoni</th>\n",
              "      <th>Soha</th>\n",
              "      <th>Loyiha umumiy qiymati</th>\n",
              "      <th>Ish o'rni</th>\n",
              "      <th>NPV</th>\n",
              "      <th>IRR</th>\n",
              "      <th>Loyiha qoplash muddati</th>\n",
              "    </tr>\n",
              "  </thead>\n",
              "  <tbody>\n",
              "    <tr>\n",
              "      <th>0</th>\n",
              "      <td>1</td>\n",
              "      <td>Samarqand</td>\n",
              "      <td>Oqsil biomassasi - bioprotein ishlab chiqarish...</td>\n",
              "      <td>0.2</td>\n",
              "      <td>Sanoat</td>\n",
              "      <td>31.8</td>\n",
              "      <td>100</td>\n",
              "      <td>8.8</td>\n",
              "      <td>18.6</td>\n",
              "      <td>72.0</td>\n",
              "    </tr>\n",
              "    <tr>\n",
              "      <th>1</th>\n",
              "      <td>2</td>\n",
              "      <td>Samarqand</td>\n",
              "      <td>Keramo va metallogranit ishlab chiqarishni tas...</td>\n",
              "      <td>20.0</td>\n",
              "      <td>Sanoat</td>\n",
              "      <td>27.7</td>\n",
              "      <td>60</td>\n",
              "      <td>1.4</td>\n",
              "      <td>19.5</td>\n",
              "      <td>96.0</td>\n",
              "    </tr>\n",
              "    <tr>\n",
              "      <th>2</th>\n",
              "      <td>3</td>\n",
              "      <td>Samarqand</td>\n",
              "      <td>Bir martalik tibbiyot anjomlari (shprits siste...</td>\n",
              "      <td>0.5</td>\n",
              "      <td>Sanoat</td>\n",
              "      <td>20.5</td>\n",
              "      <td>40</td>\n",
              "      <td>1.8</td>\n",
              "      <td>14.2</td>\n",
              "      <td>72.0</td>\n",
              "    </tr>\n",
              "    <tr>\n",
              "      <th>3</th>\n",
              "      <td>4</td>\n",
              "      <td>Samarqand</td>\n",
              "      <td>Madaniy kavrak o‘simligini yetishtirish va qay...</td>\n",
              "      <td>20.0</td>\n",
              "      <td>Sanoat</td>\n",
              "      <td>10.0</td>\n",
              "      <td>100</td>\n",
              "      <td>2.7</td>\n",
              "      <td>14.0</td>\n",
              "      <td>96.0</td>\n",
              "    </tr>\n",
              "    <tr>\n",
              "      <th>4</th>\n",
              "      <td>5</td>\n",
              "      <td>Samarqand</td>\n",
              "      <td>Oshqovoq va olma mahsulotlarini qayta ishlash ...</td>\n",
              "      <td>0.5</td>\n",
              "      <td>Sanoat</td>\n",
              "      <td>10.0</td>\n",
              "      <td>30</td>\n",
              "      <td>2.9</td>\n",
              "      <td>24.1</td>\n",
              "      <td>72.0</td>\n",
              "    </tr>\n",
              "  </tbody>\n",
              "</table>\n",
              "</div>\n",
              "    <div class=\"colab-df-buttons\">\n",
              "\n",
              "  <div class=\"colab-df-container\">\n",
              "    <button class=\"colab-df-convert\" onclick=\"convertToInteractive('df-4d4e0501-21bd-4df3-b3fc-d2af9414056b')\"\n",
              "            title=\"Convert this dataframe to an interactive table.\"\n",
              "            style=\"display:none;\">\n",
              "\n",
              "  <svg xmlns=\"http://www.w3.org/2000/svg\" height=\"24px\" viewBox=\"0 -960 960 960\">\n",
              "    <path d=\"M120-120v-720h720v720H120Zm60-500h600v-160H180v160Zm220 220h160v-160H400v160Zm0 220h160v-160H400v160ZM180-400h160v-160H180v160Zm440 0h160v-160H620v160ZM180-180h160v-160H180v160Zm440 0h160v-160H620v160Z\"/>\n",
              "  </svg>\n",
              "    </button>\n",
              "\n",
              "  <style>\n",
              "    .colab-df-container {\n",
              "      display:flex;\n",
              "      gap: 12px;\n",
              "    }\n",
              "\n",
              "    .colab-df-convert {\n",
              "      background-color: #E8F0FE;\n",
              "      border: none;\n",
              "      border-radius: 50%;\n",
              "      cursor: pointer;\n",
              "      display: none;\n",
              "      fill: #1967D2;\n",
              "      height: 32px;\n",
              "      padding: 0 0 0 0;\n",
              "      width: 32px;\n",
              "    }\n",
              "\n",
              "    .colab-df-convert:hover {\n",
              "      background-color: #E2EBFA;\n",
              "      box-shadow: 0px 1px 2px rgba(60, 64, 67, 0.3), 0px 1px 3px 1px rgba(60, 64, 67, 0.15);\n",
              "      fill: #174EA6;\n",
              "    }\n",
              "\n",
              "    .colab-df-buttons div {\n",
              "      margin-bottom: 4px;\n",
              "    }\n",
              "\n",
              "    [theme=dark] .colab-df-convert {\n",
              "      background-color: #3B4455;\n",
              "      fill: #D2E3FC;\n",
              "    }\n",
              "\n",
              "    [theme=dark] .colab-df-convert:hover {\n",
              "      background-color: #434B5C;\n",
              "      box-shadow: 0px 1px 3px 1px rgba(0, 0, 0, 0.15);\n",
              "      filter: drop-shadow(0px 1px 2px rgba(0, 0, 0, 0.3));\n",
              "      fill: #FFFFFF;\n",
              "    }\n",
              "  </style>\n",
              "\n",
              "    <script>\n",
              "      const buttonEl =\n",
              "        document.querySelector('#df-4d4e0501-21bd-4df3-b3fc-d2af9414056b button.colab-df-convert');\n",
              "      buttonEl.style.display =\n",
              "        google.colab.kernel.accessAllowed ? 'block' : 'none';\n",
              "\n",
              "      async function convertToInteractive(key) {\n",
              "        const element = document.querySelector('#df-4d4e0501-21bd-4df3-b3fc-d2af9414056b');\n",
              "        const dataTable =\n",
              "          await google.colab.kernel.invokeFunction('convertToInteractive',\n",
              "                                                    [key], {});\n",
              "        if (!dataTable) return;\n",
              "\n",
              "        const docLinkHtml = 'Like what you see? Visit the ' +\n",
              "          '<a target=\"_blank\" href=https://colab.research.google.com/notebooks/data_table.ipynb>data table notebook</a>'\n",
              "          + ' to learn more about interactive tables.';\n",
              "        element.innerHTML = '';\n",
              "        dataTable['output_type'] = 'display_data';\n",
              "        await google.colab.output.renderOutput(dataTable, element);\n",
              "        const docLink = document.createElement('div');\n",
              "        docLink.innerHTML = docLinkHtml;\n",
              "        element.appendChild(docLink);\n",
              "      }\n",
              "    </script>\n",
              "  </div>\n",
              "\n",
              "\n",
              "<div id=\"df-4a02f580-7048-404b-a5b0-b317253e2a68\">\n",
              "  <button class=\"colab-df-quickchart\" onclick=\"quickchart('df-4a02f580-7048-404b-a5b0-b317253e2a68')\"\n",
              "            title=\"Suggest charts\"\n",
              "            style=\"display:none;\">\n",
              "\n",
              "<svg xmlns=\"http://www.w3.org/2000/svg\" height=\"24px\"viewBox=\"0 0 24 24\"\n",
              "     width=\"24px\">\n",
              "    <g>\n",
              "        <path d=\"M19 3H5c-1.1 0-2 .9-2 2v14c0 1.1.9 2 2 2h14c1.1 0 2-.9 2-2V5c0-1.1-.9-2-2-2zM9 17H7v-7h2v7zm4 0h-2V7h2v10zm4 0h-2v-4h2v4z\"/>\n",
              "    </g>\n",
              "</svg>\n",
              "  </button>\n",
              "\n",
              "<style>\n",
              "  .colab-df-quickchart {\n",
              "      --bg-color: #E8F0FE;\n",
              "      --fill-color: #1967D2;\n",
              "      --hover-bg-color: #E2EBFA;\n",
              "      --hover-fill-color: #174EA6;\n",
              "      --disabled-fill-color: #AAA;\n",
              "      --disabled-bg-color: #DDD;\n",
              "  }\n",
              "\n",
              "  [theme=dark] .colab-df-quickchart {\n",
              "      --bg-color: #3B4455;\n",
              "      --fill-color: #D2E3FC;\n",
              "      --hover-bg-color: #434B5C;\n",
              "      --hover-fill-color: #FFFFFF;\n",
              "      --disabled-bg-color: #3B4455;\n",
              "      --disabled-fill-color: #666;\n",
              "  }\n",
              "\n",
              "  .colab-df-quickchart {\n",
              "    background-color: var(--bg-color);\n",
              "    border: none;\n",
              "    border-radius: 50%;\n",
              "    cursor: pointer;\n",
              "    display: none;\n",
              "    fill: var(--fill-color);\n",
              "    height: 32px;\n",
              "    padding: 0;\n",
              "    width: 32px;\n",
              "  }\n",
              "\n",
              "  .colab-df-quickchart:hover {\n",
              "    background-color: var(--hover-bg-color);\n",
              "    box-shadow: 0 1px 2px rgba(60, 64, 67, 0.3), 0 1px 3px 1px rgba(60, 64, 67, 0.15);\n",
              "    fill: var(--button-hover-fill-color);\n",
              "  }\n",
              "\n",
              "  .colab-df-quickchart-complete:disabled,\n",
              "  .colab-df-quickchart-complete:disabled:hover {\n",
              "    background-color: var(--disabled-bg-color);\n",
              "    fill: var(--disabled-fill-color);\n",
              "    box-shadow: none;\n",
              "  }\n",
              "\n",
              "  .colab-df-spinner {\n",
              "    border: 2px solid var(--fill-color);\n",
              "    border-color: transparent;\n",
              "    border-bottom-color: var(--fill-color);\n",
              "    animation:\n",
              "      spin 1s steps(1) infinite;\n",
              "  }\n",
              "\n",
              "  @keyframes spin {\n",
              "    0% {\n",
              "      border-color: transparent;\n",
              "      border-bottom-color: var(--fill-color);\n",
              "      border-left-color: var(--fill-color);\n",
              "    }\n",
              "    20% {\n",
              "      border-color: transparent;\n",
              "      border-left-color: var(--fill-color);\n",
              "      border-top-color: var(--fill-color);\n",
              "    }\n",
              "    30% {\n",
              "      border-color: transparent;\n",
              "      border-left-color: var(--fill-color);\n",
              "      border-top-color: var(--fill-color);\n",
              "      border-right-color: var(--fill-color);\n",
              "    }\n",
              "    40% {\n",
              "      border-color: transparent;\n",
              "      border-right-color: var(--fill-color);\n",
              "      border-top-color: var(--fill-color);\n",
              "    }\n",
              "    60% {\n",
              "      border-color: transparent;\n",
              "      border-right-color: var(--fill-color);\n",
              "    }\n",
              "    80% {\n",
              "      border-color: transparent;\n",
              "      border-right-color: var(--fill-color);\n",
              "      border-bottom-color: var(--fill-color);\n",
              "    }\n",
              "    90% {\n",
              "      border-color: transparent;\n",
              "      border-bottom-color: var(--fill-color);\n",
              "    }\n",
              "  }\n",
              "</style>\n",
              "\n",
              "  <script>\n",
              "    async function quickchart(key) {\n",
              "      const quickchartButtonEl =\n",
              "        document.querySelector('#' + key + ' button');\n",
              "      quickchartButtonEl.disabled = true;  // To prevent multiple clicks.\n",
              "      quickchartButtonEl.classList.add('colab-df-spinner');\n",
              "      try {\n",
              "        const charts = await google.colab.kernel.invokeFunction(\n",
              "            'suggestCharts', [key], {});\n",
              "      } catch (error) {\n",
              "        console.error('Error during call to suggestCharts:', error);\n",
              "      }\n",
              "      quickchartButtonEl.classList.remove('colab-df-spinner');\n",
              "      quickchartButtonEl.classList.add('colab-df-quickchart-complete');\n",
              "    }\n",
              "    (() => {\n",
              "      let quickchartButtonEl =\n",
              "        document.querySelector('#df-4a02f580-7048-404b-a5b0-b317253e2a68 button');\n",
              "      quickchartButtonEl.style.display =\n",
              "        google.colab.kernel.accessAllowed ? 'block' : 'none';\n",
              "    })();\n",
              "  </script>\n",
              "</div>\n",
              "\n",
              "    </div>\n",
              "  </div>\n"
            ],
            "application/vnd.google.colaboratory.intrinsic+json": {
              "type": "dataframe",
              "variable_name": "data",
              "summary": "{\n  \"name\": \"data\",\n  \"rows\": 2216,\n  \"fields\": [\n    {\n      \"column\": \"\\u2116\",\n      \"properties\": {\n        \"dtype\": \"number\",\n        \"std\": 639,\n        \"min\": 1,\n        \"max\": 2216,\n        \"num_unique_values\": 2216,\n        \"samples\": [\n          949,\n          219,\n          1081\n        ],\n        \"semantic_type\": \"\",\n        \"description\": \"\"\n      }\n    },\n    {\n      \"column\": \"Hudud nomi\",\n      \"properties\": {\n        \"dtype\": \"category\",\n        \"num_unique_values\": 12,\n        \"samples\": [\n          \"Xorazm\",\n          \"Farg'ona\",\n          \"Samarqand\"\n        ],\n        \"semantic_type\": \"\",\n        \"description\": \"\"\n      }\n    },\n    {\n      \"column\": \"Loyiha nomi\",\n      \"properties\": {\n        \"dtype\": \"string\",\n        \"num_unique_values\": 2067,\n        \"samples\": [\n          \"Omuxta yem mahsulotlari ichlab chiqarish (parranda va chorva mollari uchun)\",\n          \"Protez-ortopedik maxsulotlar ishlab chikarish\",\n          \"Gazlangan va gazsiz suvlar ishlab chiqarishsh\"\n        ],\n        \"semantic_type\": \"\",\n        \"description\": \"\"\n      }\n    },\n    {\n      \"column\": \"Maydoni\",\n      \"properties\": {\n        \"dtype\": \"number\",\n        \"std\": 138.03707506170957,\n        \"min\": 0.0,\n        \"max\": 3000.0,\n        \"num_unique_values\": 124,\n        \"samples\": [\n          8.0,\n          3.1,\n          0.6\n        ],\n        \"semantic_type\": \"\",\n        \"description\": \"\"\n      }\n    },\n    {\n      \"column\": \"Soha\",\n      \"properties\": {\n        \"dtype\": \"category\",\n        \"num_unique_values\": 4,\n        \"samples\": [\n          \"Qishloq xo'jaligi\",\n          \"Sanoat \",\n          \"Sanoat\"\n        ],\n        \"semantic_type\": \"\",\n        \"description\": \"\"\n      }\n    },\n    {\n      \"column\": \"Loyiha umumiy qiymati\",\n      \"properties\": {\n        \"dtype\": \"number\",\n        \"std\": 7.658217932644374,\n        \"min\": 0.02,\n        \"max\": 145.0,\n        \"num_unique_values\": 914,\n        \"samples\": [\n          0.365,\n          70.0,\n          2.36\n        ],\n        \"semantic_type\": \"\",\n        \"description\": \"\"\n      }\n    },\n    {\n      \"column\": \"Ish o'rni\",\n      \"properties\": {\n        \"dtype\": \"number\",\n        \"std\": 59,\n        \"min\": 3,\n        \"max\": 1000,\n        \"num_unique_values\": 155,\n        \"samples\": [\n          81,\n          210,\n          90\n        ],\n        \"semantic_type\": \"\",\n        \"description\": \"\"\n      }\n    },\n    {\n      \"column\": \"NPV\",\n      \"properties\": {\n        \"dtype\": \"number\",\n        \"std\": 158288.7233260747,\n        \"min\": 0.000166,\n        \"max\": 7376648.0,\n        \"num_unique_values\": 1201,\n        \"samples\": [\n          0.1202,\n          0.072529,\n          0.174704\n        ],\n        \"semantic_type\": \"\",\n        \"description\": \"\"\n      }\n    },\n    {\n      \"column\": \"IRR\",\n      \"properties\": {\n        \"dtype\": \"number\",\n        \"std\": 15.305636241112193,\n        \"min\": 0.17,\n        \"max\": 206.0,\n        \"num_unique_values\": 507,\n        \"samples\": [\n          38.5,\n          6.1,\n          12.67\n        ],\n        \"semantic_type\": \"\",\n        \"description\": \"\"\n      }\n    },\n    {\n      \"column\": \"Loyiha qoplash muddati\",\n      \"properties\": {\n        \"dtype\": \"number\",\n        \"std\": 19.65736194931254,\n        \"min\": 5.0,\n        \"max\": 264.0,\n        \"num_unique_values\": 115,\n        \"samples\": [\n          89.0,\n          60.0,\n          29.0\n        ],\n        \"semantic_type\": \"\",\n        \"description\": \"\"\n      }\n    }\n  ]\n}"
            }
          },
          "metadata": {},
          "execution_count": 4
        }
      ],
      "source": [
        "file_path = 'data.xlsx'\n",
        "data = pd.read_excel(file_path)\n",
        "\n",
        "data.head()"
      ]
    },
    {
      "cell_type": "code",
      "source": [
        "columns_of_interest = ['Loyiha umumiy qiymati', 'Ish o\\'rni', 'NPV', 'IRR', 'Loyiha qoplash muddati']\n",
        "data_filtered = data[columns_of_interest]\n",
        "\n",
        "# Remove outliers by removing the 10 largest and 10 smallest values from each column\n",
        "def remove_outliers(df, num_outliers=10):\n",
        "    df_cleaned = df.apply(lambda x: x.sort_values().iloc[num_outliers:-num_outliers].reset_index(drop=True))\n",
        "    return df_cleaned\n",
        "\n",
        "data_cleaned = remove_outliers(data_filtered)\n",
        "\n"
      ],
      "metadata": {
        "id": "VaTs2BSNtW0U"
      },
      "execution_count": 5,
      "outputs": []
    },
    {
      "cell_type": "code",
      "source": [
        "X = data_cleaned.drop(columns=['NPV'])\n",
        "y = data_cleaned['NPV']"
      ],
      "metadata": {
        "id": "VCoFXXV8tZpJ"
      },
      "execution_count": 7,
      "outputs": []
    },
    {
      "cell_type": "code",
      "source": [
        "model = RandomForestRegressor(random_state=42)\n",
        "param_grid = {\n",
        "    'n_estimators': [100, 200, 300],\n",
        "    'max_depth': [10, 20, 30],\n",
        "    'min_samples_split': [2, 5, 10],\n",
        "    'min_samples_leaf': [1, 2, 4]\n",
        "}\n",
        "\n",
        "# Perform GridSearchCV to find the best parameters\n",
        "grid_search = GridSearchCV(estimator=model, param_grid=param_grid, cv=3, n_jobs=-1, verbose=2)\n",
        "grid_search.fit(X_train, y_train)\n",
        "\n",
        "# Get the best model\n",
        "best_model = grid_search.best_estimator_\n",
        "\n",
        "# Save the best model\n",
        "joblib.dump(best_model, 'npv_best_model.pkl')\n",
        "\n",
        "# Evaluate the best model\n",
        "y_pred = best_model.predict(X_test)\n",
        "mse = mean_squared_error(y_test, y_pred)\n",
        "print(f'Mean Squared Error: {mse}')\n",
        "print(f'Best Parameters: {grid_search.best_params_}')"
      ],
      "metadata": {
        "colab": {
          "base_uri": "https://localhost:8080/"
        },
        "id": "W1nxLg1F89ix",
        "outputId": "652cc119-ab2d-4cdc-f63c-50cd2a013fa6"
      },
      "execution_count": 31,
      "outputs": [
        {
          "output_type": "stream",
          "name": "stdout",
          "text": [
            "Fitting 3 folds for each of 81 candidates, totalling 243 fits\n",
            "Mean Squared Error: 0.007799518618767391\n",
            "Best Parameters: {'max_depth': 20, 'min_samples_leaf': 1, 'min_samples_split': 2, 'n_estimators': 100}\n"
          ]
        }
      ]
    },
    {
      "cell_type": "code",
      "source": [
        "mse = mean_squared_error(y_test, y_pred)\n",
        "r2 = r2_score(y_test, y_pred)"
      ],
      "metadata": {
        "id": "Q27b74Ostn2D"
      },
      "execution_count": 10,
      "outputs": []
    },
    {
      "cell_type": "code",
      "source": [
        "plt.figure(figsize=(10, 6))\n",
        "plt.scatter(y_test, y_pred, alpha=0.6)\n",
        "plt.plot([y_test.min(), y_test.max()], [y_test.min(), y_test.max()], 'k--', lw=2)\n",
        "plt.xlabel('Haqiqiy')\n",
        "plt.ylabel('Bashorat qilingan')\n",
        "plt.title('Haqiqiy vs Bashorat qilingan qiymatlar')\n",
        "plt.show()\n",
        "\n",
        "# Display error metrics\n",
        "mse, r2\n",
        "joblib.dump(model, 'npv_model.pkl')\n"
      ],
      "metadata": {
        "colab": {
          "base_uri": "https://localhost:8080/",
          "height": 590
        },
        "id": "Sj_U179Xtrfo",
        "outputId": "68d60b84-4614-45e0-f661-e43550c10e5b"
      },
      "execution_count": 26,
      "outputs": [
        {
          "output_type": "display_data",
          "data": {
            "text/plain": [
              "<Figure size 1000x600 with 1 Axes>"
            ],
            "image/png": "[encoded data removed]"
          },
          "metadata": {}
        },
        {
          "output_type": "execute_result",
          "data": {
            "text/plain": [
              "['npv_model.pkl']"
            ]
          },
          "metadata": {},
          "execution_count": 26
        }
      ]
    },
    {
      "cell_type": "code",
      "source": [
        "correlation_matrix = data_cleaned.corr()\n",
        "\n",
        "# Plot a barplot of the correlations\n",
        "plt.figure(figsize=(10, 6))\n",
        "correlation_matrix['NPV'].sort_values(ascending=False).plot(kind='bar')\n",
        "plt.title('O\\'zgaruvchilarning NPV bilan korrelyatsiyasi')\n",
        "plt.ylabel('Korrelyatsiya koeffitsienti')\n",
        "plt.xlabel('O\\'zgaruvchilar')\n",
        "plt.show()"
      ],
      "metadata": {
        "colab": {
          "base_uri": "https://localhost:8080/",
          "height": 741
        },
        "id": "kDno9UHxzpqP",
        "outputId": "04baac76-697f-4fb3-944b-dee4ed6a2670"
      },
      "execution_count": 24,
      "outputs": [
        {
          "output_type": "display_data",
          "data": {
            "text/plain": [
              "<Figure size 1000x600 with 1 Axes>"
            ],
            "image/png": "[encoded data removed]"
          },
          "metadata": {}
        }
      ]
    },
    {
      "cell_type": "code",
      "source": [
        "import pandas as pd\n",
        "\n",
        "# Load the data\n",
        "data = pd.read_excel('data.xlsx')\n",
        "\n",
        "# Calculate statistics for each region\n",
        "region_stats_uzbek = data.groupby('Hudud nomi').agg({'№': 'count', 'NPV': 'mean'}).reset_index()\n",
        "region_stats_uzbek.columns = ['Hudud nomi', 'Loyihalar Soni', \"O'rtacha NPV\"]\n",
        "\n",
        "# Add manual coordinates\n",
        "region_coords_uzbek = {\n",
        "    \"Samarqand\": (39.654, 66.974),\n",
        "    \"Toshkent\": (41.313, 69.277),\n",
        "    \"Buxoro\": (39.774, 64.428),\n",
        "    \"Qashqadaryo\": (38.839, 66.179),\n",
        "    \"Surxondaryo\": (37.233, 67.278),\n",
        "    \"Farg‘ona\": (40.384, 71.786),\n",
        "    \"Namangan\": (41.000, 71.672),\n",
        "    \"Andijon\": (40.783, 72.352),\n",
        "    \"Navoiy\": (40.101, 65.374),\n",
        "    \"Jizzax\": (40.117, 67.842),\n",
        "    \"Xorazm\": (41.556, 60.640),\n",
        "    \"Qoraqalpog‘iston Respublikasi\": (42.485, 59.603)\n",
        "}\n",
        "\n",
        "# Convert the dictionary to a DataFrame\n",
        "regions_coordinates_uzbek = pd.DataFrame(region_coords_uzbek.items(), columns=['Hudud nomi', 'Coordinates'])\n",
        "regions_coordinates_uzbek[['Latitude', 'Longitude']] = pd.DataFrame(regions_coordinates_uzbek['Coordinates'].tolist(), index=regions_coordinates_uzbek.index)\n",
        "regions_coordinates_uzbek = regions_coordinates_uzbek.drop(columns=['Coordinates'])\n",
        "\n",
        "# Merge the coordinates with region stats\n",
        "region_stats_uzbek = region_stats_uzbek.merge(regions_coordinates_uzbek, on='Hudud nomi', how='left')\n",
        "\n",
        "# Drop Latitude and Longitude columns\n",
        "region_stats_uzbek = region_stats_uzbek.drop(columns=['Latitude', 'Longitude'])\n",
        "\n",
        "# Display the results\n",
        "print(region_stats_uzbek)\n",
        "region_stats_uzbek.to_excel('region_stats_uzbek.xlsx', index=False)\n",
        "\n"
      ],
      "metadata": {
        "colab": {
          "base_uri": "https://localhost:8080/"
        },
        "id": "6OO1qGxt1xOP",
        "outputId": "fe5c3851-793a-464b-8e9b-9e2402506bb8"
      },
      "execution_count": 22,
      "outputs": [
        {
          "output_type": "stream",
          "name": "stdout",
          "text": [
            "          Hudud nomi  Loyihalar Soni  O'rtacha NPV\n",
            "0            Andijon             240      0.294955\n",
            "1             Buxoro             200      6.236165\n",
            "2           Farg'ona             120      0.568908\n",
            "3             Jizzax             127      0.665056\n",
            "4           Namangan              80      0.316840\n",
            "5             Navoiy             124      0.846707\n",
            "6        Qashqadaryo             201      2.757323\n",
            "7   Qoraqalpog'iston             322      1.055125\n",
            "8          Samarqand             201  41953.570762\n",
            "9        Surxondaryo             320      1.345244\n",
            "10          Toshkent             120      2.369943\n",
            "11            Xorazm             161      0.485652\n"
          ]
        }
      ]
    },
    {
      "cell_type": "code",
      "source": [
        "import joblib\n",
        "\n",
        "# Load the best model\n",
        "best_model = joblib.load('npv_best_model.pkl')\n",
        "\n",
        "# Function to predict NPV based on user inputs\n",
        "def predict_npv():\n",
        "    # User inputs\n",
        "    loyha_umumiy_qiymati = float(input(\"Loyiha umumiy qiymatini kiriting: \"))\n",
        "    ish_orni = int(input(\"Ish o'rni kiriting: \"))\n",
        "    irr = float(input(\"IRR kiriting: \"))\n",
        "    loyiha_qoplash_muddati = float(input(\"Loyiha qoplash muddatini kiriting: \"))\n",
        "\n",
        "    # Prepare input data\n",
        "    input_data = pd.DataFrame([[loyha_umumiy_qiymati, ish_orni, irr, loyiha_qoplash_muddati]],\n",
        "                              columns=['Loyiha umumiy qiymati', 'Ish o\\'rni', 'IRR', 'Loyiha qoplash muddati'])\n",
        "\n",
        "    # Predict NPV\n",
        "    predicted_npv = best_model.predict(input_data)\n",
        "\n",
        "    # Display the result\n",
        "    print(f\"Bashorat qilingan NPV: {predicted_npv[0]}\")\n",
        "\n",
        "# Call the function\n",
        "predict_npv()\n"
      ],
      "metadata": {
        "colab": {
          "base_uri": "https://localhost:8080/"
        },
        "id": "3vptCXp_9RSE",
        "outputId": "b1cb85ee-1a06-404d-e206-734a5f4de5c7"
      },
      "execution_count": 32,
      "outputs": [
        {
          "output_type": "stream",
          "name": "stdout",
          "text": [
            "Loyiha umumiy qiymatini kiriting: 55\n",
            "Ish o'rni kiriting: 65\n",
            "IRR kiriting: 78\n",
            "Loyiha qoplash muddatini kiriting: 78\n",
            "Bashorat qilingan NPV: 7.549514152682052\n"
          ]
        }
      ]
    },
    {
      "cell_type": "code",
      "source": [],
      "metadata": {
        "id": "8I3YvWBQ8zzF"
      },
      "execution_count": null,
      "outputs": []
    }
  ],
  "metadata": {
    "colab": {
      "provenance": []
    },
    "kernelspec": {
      "display_name": "Python 3",
      "name": "python3"
    },
    "language_info": {
      "name": "python"
    }
  },
  "nbformat": 4,
  "nbformat_minor": 0
}